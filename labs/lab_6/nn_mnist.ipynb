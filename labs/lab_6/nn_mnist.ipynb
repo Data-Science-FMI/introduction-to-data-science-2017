{
 "cells": [
  {
   "cell_type": "code",
   "execution_count": 1,
   "metadata": {},
   "outputs": [
    {
     "name": "stderr",
     "output_type": "stream",
     "text": [
      "Loading tidyverse: ggplot2\n",
      "Loading tidyverse: tibble\n",
      "Loading tidyverse: tidyr\n",
      "Loading tidyverse: readr\n",
      "Loading tidyverse: purrr\n",
      "Loading tidyverse: dplyr\n",
      "Conflicts with tidy packages ---------------------------------------------------\n",
      "filter(): dplyr, stats\n",
      "lag():    dplyr, stats\n",
      "Loading required package: lattice\n",
      "\n",
      "Attaching package: ‘caret’\n",
      "\n",
      "The following object is masked from ‘package:purrr’:\n",
      "\n",
      "    lift\n",
      "\n"
     ]
    }
   ],
   "source": [
    "library(tidyverse)\n",
    "library(caret)\n",
    "library(keras)"
   ]
  },
  {
   "cell_type": "code",
   "execution_count": 2,
   "metadata": {},
   "outputs": [
    {
     "name": "stderr",
     "output_type": "stream",
     "text": [
      "Parsed with column specification:\n",
      "cols(\n",
      "  .default = col_integer()\n",
      ")\n",
      "See spec(...) for full column specifications.\n",
      "Parsed with column specification:\n",
      "cols(\n",
      "  .default = col_integer()\n",
      ")\n",
      "See spec(...) for full column specifications.\n"
     ]
    }
   ],
   "source": [
    "train <- read_csv(\"data/train.csv\")\n",
    "test <- read_csv(\"data/test.csv\")"
   ]
  },
  {
   "cell_type": "code",
   "execution_count": 3,
   "metadata": {
    "collapsed": true
   },
   "outputs": [],
   "source": [
    "train_index <- createDataPartition(train$label, p=0.9, list=FALSE)\n",
    "cv_train <- train[train_index, ]\n",
    "cv_validation <- train[-train_index, ]"
   ]
  },
  {
   "cell_type": "code",
   "execution_count": 4,
   "metadata": {
    "collapsed": true
   },
   "outputs": [],
   "source": [
    "train_data <- select(cv_train, -label)\n",
    "train_labels <- cv_train$label\n",
    "\n",
    "validation_data <- select(cv_validation, -label)\n",
    "validation_labels <- cv_validation$label"
   ]
  },
  {
   "cell_type": "code",
   "execution_count": 5,
   "metadata": {
    "collapsed": true
   },
   "outputs": [],
   "source": [
    "x_train <- data.matrix(train_data)\n",
    "x_valid <- data.matrix(validation_data)"
   ]
  },
  {
   "cell_type": "code",
   "execution_count": 6,
   "metadata": {
    "collapsed": true
   },
   "outputs": [],
   "source": [
    "y_train <- to_categorical(train_labels, 10)\n",
    "y_valid <- to_categorical(validation_labels, 10)"
   ]
  },
  {
   "cell_type": "code",
   "execution_count": 7,
   "metadata": {},
   "outputs": [],
   "source": [
    "x_train <- x_train / 255\n",
    "x_valid <- x_valid / 255"
   ]
  },
  {
   "cell_type": "markdown",
   "metadata": {},
   "source": [
    "# Modeling"
   ]
  },
  {
   "cell_type": "code",
   "execution_count": 8,
   "metadata": {
    "collapsed": true
   },
   "outputs": [],
   "source": [
    "model <- keras_model_sequential() \n",
    "model %>% \n",
    "  layer_dense(units = 256, activation = 'relu', input_shape = c(784)) %>% \n",
    "  layer_dropout(rate = 0.4) %>% \n",
    "  layer_dense(units = 128, activation = 'relu') %>%\n",
    "  layer_dropout(rate = 0.3) %>%\n",
    "  layer_dense(units = 10, activation = 'softmax')"
   ]
  },
  {
   "cell_type": "code",
   "execution_count": 9,
   "metadata": {},
   "outputs": [
    {
     "name": "stdout",
     "output_type": "stream",
     "text": [
      "________________________________________________________________________________\n",
      "Layer (type)                        Output Shape                    Param #     \n",
      "================================================================================\n",
      "dense_1 (Dense)                     (None, 256)                     200960      \n",
      "________________________________________________________________________________\n",
      "dropout_1 (Dropout)                 (None, 256)                     0           \n",
      "________________________________________________________________________________\n",
      "dense_2 (Dense)                     (None, 128)                     32896       \n",
      "________________________________________________________________________________\n",
      "dropout_2 (Dropout)                 (None, 128)                     0           \n",
      "________________________________________________________________________________\n",
      "dense_3 (Dense)                     (None, 10)                      1290        \n",
      "================================================================================\n",
      "Total params: 235,146\n",
      "Trainable params: 235,146\n",
      "Non-trainable params: 0\n",
      "________________________________________________________________________________\n"
     ]
    }
   ],
   "source": [
    "summary(model)"
   ]
  },
  {
   "cell_type": "code",
   "execution_count": 10,
   "metadata": {
    "collapsed": true
   },
   "outputs": [],
   "source": [
    "model %>% compile(\n",
    "  loss = 'categorical_crossentropy',\n",
    "  optimizer = optimizer_rmsprop(),\n",
    "  metrics = c('accuracy')\n",
    ")"
   ]
  },
  {
   "cell_type": "code",
   "execution_count": 11,
   "metadata": {},
   "outputs": [],
   "source": [
    "history <- model %>% fit(\n",
    "    x_train, y_train, \n",
    "    epochs = 30, \n",
    "    batch_size = 128, \n",
    "    validation_data = list(x_valid, y_valid)\n",
    ")"
   ]
  },
  {
   "cell_type": "markdown",
   "metadata": {},
   "source": [
    "# Model evaluation"
   ]
  },
  {
   "cell_type": "code",
   "execution_count": 12,
   "metadata": {},
   "outputs": [
    {
     "data": {},
     "metadata": {},
     "output_type": "display_data"
    },
    {
     "data": {
      "image/png": "[encoded data removed]",
      "text/plain": [
       "plot without title"
      ]
     },
     "metadata": {},
     "output_type": "display_data"
    }
   ],
   "source": [
    "plot(history)"
   ]
  },
  {
   "cell_type": "code",
   "execution_count": 13,
   "metadata": {
    "collapsed": true
   },
   "outputs": [],
   "source": [
    "as_labels <- function(predictions) {\n",
    "    data <- as_tibble(predictions)\n",
    "    colnames(data) <- 0:9\n",
    "    return(\n",
    "        as.integer(colnames(data)[max.col(data, ties.method=\"first\")])\n",
    "    )\n",
    "}"
   ]
  },
  {
   "cell_type": "code",
   "execution_count": 14,
   "metadata": {
    "collapsed": true
   },
   "outputs": [],
   "source": [
    "predictions <- model %>% predict(x_valid, batch_size = 128)\n",
    "pred_labels <- as_labels(predictions)\n",
    "\n",
    "confusion_matrix <- caret::confusionMatrix(\n",
    "    table(predicted=pred_labels, actual=validation_labels)\n",
    ")"
   ]
  },
  {
   "cell_type": "code",
   "execution_count": 15,
   "metadata": {},
   "outputs": [
    {
     "data": {
      "text/plain": [
       "Confusion Matrix and Statistics\n",
       "\n",
       "         actual\n",
       "predicted   0   1   2   3   4   5   6   7   8   9\n",
       "        0 429   0   1   0   0   0   3   0   1   0\n",
       "        1   0 458   1   0   1   1   0   2   0   0\n",
       "        2   2   3 395   4   0   0   0   1   2   1\n",
       "        3   0   4   1 422   0   7   0   0   1   0\n",
       "        4   0   0   2   0 400   0   1   0   0   1\n",
       "        5   0   0   1   7   0 387   1   1   3   1\n",
       "        6   0   0   0   0   0   2 387   0   1   0\n",
       "        7   0   0   1   0   1   0   0 434   1   4\n",
       "        8   0   1   0   2   0   1   0   0 400   1\n",
       "        9   0   0   0   2   3   2   0   3   0 408\n",
       "\n",
       "Overall Statistics\n",
       "                                          \n",
       "               Accuracy : 0.9812          \n",
       "                 95% CI : (0.9766, 0.9851)\n",
       "    No Information Rate : 0.111           \n",
       "    P-Value [Acc > NIR] : < 2.2e-16       \n",
       "                                          \n",
       "                  Kappa : 0.9791          \n",
       " Mcnemar's Test P-Value : NA              \n",
       "\n",
       "Statistics by Class:\n",
       "\n",
       "                     Class: 0 Class: 1 Class: 2 Class: 3 Class: 4 Class: 5\n",
       "Sensitivity            0.9954   0.9828  0.98259   0.9657  0.98765  0.96750\n",
       "Specificity            0.9987   0.9987  0.99658   0.9965  0.99895  0.99631\n",
       "Pos Pred Value         0.9885   0.9892  0.96814   0.9701  0.99010  0.96509\n",
       "Neg Pred Value         0.9995   0.9979  0.99815   0.9960  0.99868  0.99658\n",
       "Prevalence             0.1026   0.1110  0.09574   0.1041  0.09645  0.09526\n",
       "Detection Rate         0.1022   0.1091  0.09407   0.1005  0.09526  0.09216\n",
       "Detection Prevalence   0.1034   0.1103  0.09717   0.1036  0.09621  0.09550\n",
       "Balanced Accuracy      0.9970   0.9907  0.98958   0.9811  0.99330  0.98191\n",
       "                     Class: 6 Class: 7 Class: 8 Class: 9\n",
       "Sensitivity           0.98724   0.9841  0.97800  0.98077\n",
       "Specificity           0.99921   0.9981  0.99868  0.99736\n",
       "Pos Pred Value        0.99231   0.9841  0.98765  0.97608\n",
       "Neg Pred Value        0.99869   0.9981  0.99763  0.99788\n",
       "Prevalence            0.09336   0.1050  0.09740  0.09907\n",
       "Detection Rate        0.09216   0.1034  0.09526  0.09717\n",
       "Detection Prevalence  0.09288   0.1050  0.09645  0.09955\n",
       "Balanced Accuracy     0.99323   0.9911  0.98834  0.98906"
      ]
     },
     "metadata": {},
     "output_type": "display_data"
    }
   ],
   "source": [
    "confusion_matrix"
   ]
  },
  {
   "cell_type": "markdown",
   "metadata": {},
   "source": [
    "# Sending to Kaggle"
   ]
  },
  {
   "cell_type": "code",
   "execution_count": 16,
   "metadata": {
    "collapsed": true
   },
   "outputs": [],
   "source": [
    "x_kaggle_train <- data.matrix(select(train, -label))\n",
    "y_kaggle_train <- train$label"
   ]
  },
  {
   "cell_type": "code",
   "execution_count": 17,
   "metadata": {
    "collapsed": true
   },
   "outputs": [],
   "source": [
    "x_kaggle_train <- x_kaggle_train / 255\n",
    "y_kaggle_train <- to_categorical(y_kaggle_train, 10)"
   ]
  },
  {
   "cell_type": "code",
   "execution_count": 18,
   "metadata": {
    "collapsed": true
   },
   "outputs": [],
   "source": [
    "kaggle_test <- data.matrix(test)\n",
    "kaggle_test <- kaggle_test / 255"
   ]
  },
  {
   "cell_type": "code",
   "execution_count": 19,
   "metadata": {
    "collapsed": true
   },
   "outputs": [],
   "source": [
    "model <- keras_model_sequential() \n",
    "model %>% \n",
    "  layer_dense(units = 256, activation = 'relu', input_shape = c(784)) %>% \n",
    "  layer_dropout(rate = 0.4) %>% \n",
    "  layer_dense(units = 128, activation = 'relu') %>%\n",
    "  layer_dropout(rate = 0.3) %>%\n",
    "  layer_dense(units = 10, activation = 'softmax')"
   ]
  },
  {
   "cell_type": "code",
   "execution_count": 20,
   "metadata": {
    "collapsed": true
   },
   "outputs": [],
   "source": [
    "model %>% compile(\n",
    "  loss = 'categorical_crossentropy',\n",
    "  optimizer = optimizer_rmsprop(),\n",
    "  metrics = c('accuracy')\n",
    ")"
   ]
  },
  {
   "cell_type": "code",
   "execution_count": 21,
   "metadata": {},
   "outputs": [],
   "source": [
    "model %>% fit(\n",
    "    x_kaggle_train, y_kaggle_train, \n",
    "    epochs = 30, \n",
    "    batch_size = 128\n",
    ")"
   ]
  },
  {
   "cell_type": "code",
   "execution_count": 22,
   "metadata": {},
   "outputs": [],
   "source": [
    "predictions <- model %>% predict(kaggle_test, batch_size = 128)"
   ]
  },
  {
   "cell_type": "code",
   "execution_count": 23,
   "metadata": {
    "collapsed": true
   },
   "outputs": [],
   "source": [
    "write_predictions_to_csv <- function(predictions, file_name) {\n",
    "    pred_labels <- as_labels(predictions)\n",
    "    predictions <- tibble(\n",
    "        ImageId=1:length(pred_labels), \n",
    "        Label=pred_labels\n",
    "    )\n",
    "    write_csv(predictions, file_name)\n",
    "}"
   ]
  },
  {
   "cell_type": "code",
   "execution_count": 24,
   "metadata": {
    "collapsed": true
   },
   "outputs": [],
   "source": [
    "write_predictions_to_csv(predictions, \"results/simple_nn.csv\")"
   ]
  },
  {
   "cell_type": "markdown",
   "metadata": {},
   "source": [
    "# CNN model"
   ]
  },
  {
   "cell_type": "code",
   "execution_count": 25,
   "metadata": {
    "collapsed": true
   },
   "outputs": [],
   "source": [
    "img_rows <- 28\n",
    "img_cols <- 28"
   ]
  },
  {
   "cell_type": "code",
   "execution_count": 26,
   "metadata": {
    "collapsed": true
   },
   "outputs": [],
   "source": [
    "input_shape <- c(img_rows, img_cols, 1)"
   ]
  },
  {
   "cell_type": "code",
   "execution_count": 27,
   "metadata": {},
   "outputs": [],
   "source": [
    "model <- keras_model_sequential()\n",
    "model %>%\n",
    "  layer_conv_2d(filters = 32, kernel_size = c(3,3), activation = 'relu',\n",
    "                input_shape = input_shape) %>% \n",
    "  layer_conv_2d(filters = 64, kernel_size = c(3,3), activation = 'relu') %>% \n",
    "  layer_max_pooling_2d(pool_size = c(2, 2)) %>% \n",
    "  layer_dropout(rate = 0.25) %>% \n",
    "  layer_flatten() %>% \n",
    "  layer_dense(units = 128, activation = 'relu') %>% \n",
    "  layer_dropout(rate = 0.5) %>% \n",
    "  layer_dense(units = 10, activation = 'softmax')"
   ]
  },
  {
   "cell_type": "code",
   "execution_count": 28,
   "metadata": {
    "collapsed": true
   },
   "outputs": [],
   "source": [
    "model %>% compile(\n",
    "  loss = loss_categorical_crossentropy,\n",
    "  optimizer = optimizer_adadelta(),\n",
    "  metrics = c('accuracy')\n",
    ")"
   ]
  },
  {
   "cell_type": "code",
   "execution_count": 29,
   "metadata": {},
   "outputs": [],
   "source": [
    "x_kaggle_train <- array_reshape(x_kaggle_train, c(nrow(x_kaggle_train), img_rows, img_cols, 1))"
   ]
  },
  {
   "cell_type": "code",
   "execution_count": 30,
   "metadata": {},
   "outputs": [],
   "source": [
    "model %>% fit(\n",
    "  x_kaggle_train, y_kaggle_train, \n",
    "  batch_size = 128,\n",
    "  epochs = 20\n",
    ")"
   ]
  },
  {
   "cell_type": "code",
   "execution_count": 31,
   "metadata": {
    "collapsed": true
   },
   "outputs": [],
   "source": [
    "kaggle_test <- array_reshape(kaggle_test, c(nrow(kaggle_test), img_rows, img_cols, 1))"
   ]
  },
  {
   "cell_type": "code",
   "execution_count": 32,
   "metadata": {},
   "outputs": [],
   "source": [
    "predictions <- model %>% predict(kaggle_test, batch_size = 128)"
   ]
  },
  {
   "cell_type": "code",
   "execution_count": 33,
   "metadata": {
    "collapsed": true
   },
   "outputs": [],
   "source": [
    "write_predictions_to_csv(predictions, \"results/cnn.csv\")"
   ]
  }
 ],
 "metadata": {
  "kernelspec": {
   "display_name": "R 3.4",
   "language": "R",
   "name": "ir34"
  },
  "language_info": {
   "codemirror_mode": "r",
   "file_extension": ".r",
   "mimetype": "text/x-r-source",
   "name": "R",
   "pygments_lexer": "r",
   "version": "3.4.1"
  }
 },
 "nbformat": 4,
 "nbformat_minor": 2
}
